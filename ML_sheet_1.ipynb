{
  "nbformat": 4,
  "nbformat_minor": 0,
  "metadata": {
    "colab": {
      "provenance": [],
      "authorship_tag": "ABX9TyOURh0Xs2ylnTKjgOIkhkYA",
      "include_colab_link": true
    },
    "kernelspec": {
      "name": "python3",
      "display_name": "Python 3"
    },
    "language_info": {
      "name": "python"
    }
  },
  "cells": [
    {
      "cell_type": "markdown",
      "metadata": {
        "id": "view-in-github",
        "colab_type": "text"
      },
      "source": [
        "<a href=\"https://colab.research.google.com/github/Nilufar-Komil/Machine-learning-EPFL-Fall-2024-/blob/main/ML_sheet_1.ipynb\" target=\"_parent\"><img src=\"https://colab.research.google.com/assets/colab-badge.svg\" alt=\"Open In Colab\"/></a>"
      ]
    },
    {
      "cell_type": "code",
      "execution_count": null,
      "metadata": {
        "id": "clEC-JJijVLp"
      },
      "outputs": [],
      "source": []
    },
    {
      "cell_type": "markdown",
      "source": [
        "Machine Learning"
      ],
      "metadata": {
        "id": "mn8WjICkkVW9"
      }
    },
    {
      "cell_type": "markdown",
      "source": [
        "# **Machine Learning**\n",
        "\n",
        "This notebook contains my solutions to the tasks from ***Exercise Sheet~1*** of the course\n",
        "*Machine Learning (CS-433), EPFL, Fall 2024*.\n",
        "\n",
        "The original exercise sheet can be found [here](https://github.com/epfml/ML_course/blob/main/labs/ex01/exercise01.pdf).\n"
      ],
      "metadata": {
        "id": "CJ2t4buHjbDU"
      }
    },
    {
      "cell_type": "markdown",
      "source": [
        "**Task A: Matrix Standardization**\n",
        "\n",
        "Write a function that accepts a data matrix\n",
        "$x \\in \\mathbb{R}^{n \\times d}$ as input and outputs the same data after normalization.\n",
        "Here, $n$ is the number of samples and $d$ the number of dimensions,\n",
        "i.e.\\ rows contain samples and columns contain features.\n"
      ],
      "metadata": {
        "id": "dfS2C269koMY"
      }
    },
    {
      "cell_type": "code",
      "source": [
        "#importing needed libraries\n",
        "import numpy as np"
      ],
      "metadata": {
        "id": "aK3MaM7zmZKU"
      },
      "execution_count": null,
      "outputs": []
    },
    {
      "cell_type": "code",
      "source": [
        "# write down the function for task a\n",
        "def normalize_matrix(x):\n",
        "  x = x.copy()\n",
        "  row, col = x.shape\n",
        "  for j in range(col):\n",
        "    x[:, j] = (x[:, j]-x[:, j].mean())/x[:, j].std()\n",
        "  return x\n"
      ],
      "metadata": {
        "id": "bXdmeyHDm95m"
      },
      "execution_count": null,
      "outputs": []
    },
    {
      "cell_type": "code",
      "source": [
        "# testing\n",
        "\n",
        "def test_normalize_matrix():\n",
        "    # Example input\n",
        "    X = np.array([[1, 2, 3],\n",
        "                  [4, 5, 6],\n",
        "                  [7, 8, 9]], dtype=float)\n",
        "\n",
        "    # Call the function\n",
        "    X_norm = normalize_matrix(X)\n",
        "\n",
        "    # --- Tests ---\n",
        "    # 1. Shape is preserved\n",
        "    assert X_norm.shape == X.shape, \"Shape changed after normalization!\"\n",
        "\n",
        "    # 2. Means are ~0 (allow tiny floating-point error)\n",
        "    assert np.allclose(X_norm.mean(axis=0), 0, atol=1e-8), \"Column means are not zero!\"\n",
        "\n",
        "    # 3. Standard deviations are ~1\n",
        "    assert np.allclose(X_norm.std(axis=0), 1, atol=1e-8), \"Column stds are not one!\"\n",
        "\n",
        "    print(\"✅ All tests passed!\")\n",
        "\n",
        "# Run the test\n",
        "test_normalize_matrix()\n",
        "\n"
      ],
      "metadata": {
        "colab": {
          "base_uri": "https://localhost:8080/"
        },
        "id": "9kFBmmTFnFDr",
        "outputId": "28cac753-7d88-4c47-c1da-2c7ad3b1028e"
      },
      "execution_count": null,
      "outputs": [
        {
          "output_type": "stream",
          "name": "stdout",
          "text": [
            "✅ All tests passed!\n"
          ]
        }
      ]
    },
    {
      "cell_type": "markdown",
      "source": [
        "**Task B: Pairwise Distances in the Plane**\n",
        "\n",
        "Write a function that accepts two matrices\n",
        "$P \\in \\mathbb{R}^{p \\times 2}$ and $Q \\in \\mathbb{R}^{q \\times 2}$\n",
        "as input, where each row contains the $(x, y)$ coordinates of an interest point.\n",
        "Note that the number of points ($p$ and $q$) do not have to be equal.\n",
        "As output, compute the pairwise distances of all points in $P$ to all points in $Q$\n",
        "and collect them in matrix $D$.\n",
        "Element $D_{i,j}$ is the Euclidean distance of the $i$-th point in $P$\n",
        "to the $j$-th point in $Q$.\n"
      ],
      "metadata": {
        "id": "2vawpY6n9G29"
      }
    },
    {
      "cell_type": "code",
      "source": [
        "def euc_dist(P, Q):\n",
        "    rowP, colP = P.shape\n",
        "    rowQ, colQ = Q.shape\n",
        "    dist_mat = np.zeros((rowP, rowQ))   # preallocate matrix\n",
        "\n",
        "    for i in range(rowP):\n",
        "        for j in range(rowQ):\n",
        "            diff = P[i, :] - Q[j, :]\n",
        "            dist_mat[i, j] = np.sqrt(np.sum(diff**2))\n",
        "\n",
        "    return dist_mat"
      ],
      "metadata": {
        "id": "_zxmvxh19hJE"
      },
      "execution_count": null,
      "outputs": []
    },
    {
      "cell_type": "code",
      "source": [
        "# test function\n",
        "\n",
        "def test_euc_dist():\n",
        "    # Define small test cases where we know the result\n",
        "    P = np.array([[0, 0],\n",
        "                  [1, 1],\n",
        "                  [2, 2]], dtype=float)\n",
        "\n",
        "    Q = np.array([[0, 1],\n",
        "                  [2, 0]], dtype=float)\n",
        "\n",
        "    # Expected distances\n",
        "    expected = np.array([\n",
        "        [1.0, 2.0],                     # distances from (0,0)\n",
        "        [1.0, np.sqrt(2)],              # distances from (1,1)\n",
        "        [np.sqrt(5), 2.0]               # distances from (2,2)\n",
        "    ])\n",
        "\n",
        "    # Compute with the function\n",
        "    D = euc_dist(P, Q)\n",
        "\n",
        "    # --- Tests ---\n",
        "    assert D.shape == expected.shape, \"Shape of distance matrix is wrong!\"\n",
        "    assert np.allclose(D, expected, atol=1e-8), \"Distance values are incorrect!\"\n",
        "\n",
        "    print(\"✅ All tests passed!\")\n",
        "\n",
        "# Run the test\n",
        "test_euc_dist()\n"
      ],
      "metadata": {
        "colab": {
          "base_uri": "https://localhost:8080/"
        },
        "id": "9CbpuZvZATVP",
        "outputId": "78d8759c-a2d9-48bb-f254-4e13e5a5b8fc"
      },
      "execution_count": null,
      "outputs": [
        {
          "output_type": "stream",
          "name": "stdout",
          "text": [
            "✅ All tests passed!\n"
          ]
        }
      ]
    },
    {
      "cell_type": "markdown",
      "source": [
        "**Task C: Likelihood of a Data Sample**\n",
        "\n",
        "The goal here is to practically implement the assignment of data to two given distributions in Python.\n",
        "A subtask of many machine learning algorithms is to compute the likelihood $p(x_n \\mid \\theta)$ of a sample $x_n$\n",
        "for a given density model with parameters $\\theta$.\n",
        "Given $k$ models, we now want to assign $x_n$ to the model for which the likelihood is maximal:\n",
        "\n",
        "$$\n",
        "a_n = \\arg \\max_m \\, p(x_n \\mid \\theta_m), \\quad m = 1, \\ldots, k.\n",
        "$$\n",
        "\n",
        "Here $\\theta_m = (\\mu_m, \\Sigma_m)$ are the parameters of the $m$-th density model\n",
        "(with $\\mu_m \\in \\mathbb{R}^d$ being the mean, and $\\Sigma_m$ the covariance matrix).\n",
        "\n",
        "We ask you to implement the assignment step for the two-model case, i.e.\\ $k = 2$.\n",
        "As input, your function receives a set of data examples $x_n \\in \\mathbb{R}^d$\n",
        "(indexed by $1 \\leq n \\leq N$) as well as the two sets of parameters\n",
        "$\\theta_1 = (\\mu_1, \\Sigma_1)$ and $\\theta_2 = (\\mu_2, \\Sigma_2)$\n",
        "of two given multivariate Gaussian distributions:\n",
        "\n",
        "$$\n",
        "p(x_n \\mid \\mu, \\Sigma) =\n",
        "\\frac{1}{(2\\pi)^{d/2} \\, |\\Sigma|^{1/2}}\n",
        "\\exp\\left( -\\tfrac{1}{2} (x_n - \\mu)^\\top \\Sigma^{-1} (x_n - \\mu) \\right),\n",
        "$$\n",
        "\n",
        "where $|\\Sigma|$ is the determinant of $\\Sigma$ and $\\Sigma^{-1}$ its inverse.\n",
        "\n",
        "Your function must return the ``most likely'' assignment $a_n \\in \\{1, 2\\}$ for each input point $n$,\n",
        "where $a_n = 1$ means that $x_n$ has been assigned to model~1.\n",
        "In other words, in the case that $a_n = 1$, it holds that\n",
        "$$\n",
        "p(x_n \\mid \\mu_1, \\Sigma_1) > p(x_n \\mid \\mu_2, \\Sigma_2).\n",
        "$$\n",
        "\n"
      ],
      "metadata": {
        "id": "D09Ak0KlEsGV"
      }
    },
    {
      "cell_type": "code",
      "source": [],
      "metadata": {
        "id": "RoEFMz_HFYjH"
      },
      "execution_count": null,
      "outputs": []
    }
  ]
}